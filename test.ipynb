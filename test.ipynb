{
 "cells": [
  {
   "cell_type": "code",
   "execution_count": 1,
   "metadata": {},
   "outputs": [],
   "source": [
    "import ivy"
   ]
  },
  {
   "cell_type": "code",
   "execution_count": 2,
   "metadata": {},
   "outputs": [
    {
     "data": {
      "text/plain": [
       "(ivy.array([[1., 0., 0.],\n",
       "        [0., 1., 0.],\n",
       "        [0., 0., 1.]]),\n",
       " ivy.array([[1.        , 0.        , 0.        ],\n",
       "        [0.1429    , 1.        , 0.        ],\n",
       "        [0.57139999, 0.5       , 1.        ]]),\n",
       " ivy.array([[7.        , 8.        , 9.        ],\n",
       "        [0.        , 0.85710001, 1.71430004],\n",
       "        [0.        , 0.        , 0.        ]]))"
      ]
     },
     "execution_count": 2,
     "metadata": {},
     "output_type": "execute_result"
    }
   ],
   "source": [
    "ivy.set_backend('torch')\n",
    "\n",
    "ivy.experimental.lu(ivy.array([[1,2,3],[4,5,6],[7,8,9]],dtype='float32'))"
   ]
  },
  {
   "cell_type": "code",
   "execution_count": 3,
   "metadata": {},
   "outputs": [
    {
     "data": {
      "text/plain": [
       "(ivy.array([[0., 0., 1.],\n",
       "        [1., 0., 0.],\n",
       "        [0., 1., 0.]]),\n",
       " ivy.array([[1.    , 0.    , 0.    ],\n",
       "        [0.1429, 1.    , 0.    ],\n",
       "        [0.5714, 0.5   , 1.    ]]),\n",
       " ivy.array([[7.        , 8.        , 9.        ],\n",
       "        [0.        , 0.85710001, 1.71430004],\n",
       "        [0.        , 0.        , 0.        ]]))"
      ]
     },
     "execution_count": 3,
     "metadata": {},
     "output_type": "execute_result"
    }
   ],
   "source": [
    "ivy.set_backend('numpy')\n",
    "ivy.experimental.lu(ivy.array([[1,2,3],[4,5,6],[7,8,9]],dtype='float32'))"
   ]
  },
  {
   "cell_type": "code",
   "execution_count": 7,
   "metadata": {},
   "outputs": [],
   "source": [
    "# ivy.set_backend('tensorflow')\n",
    "# ivy.experimental.lu(ivy.array([[1,2,3],[4,5,6],[7,8,9]],dtype='float32'))"
   ]
  },
  {
   "cell_type": "code",
   "execution_count": 20,
   "metadata": {},
   "outputs": [],
   "source": [
    "import tensorflow as tf\n",
    "from typing import Optional, Tuple\n",
    "def lu(\n",
    "    x: tf.Tensor,\n",
    "    /,\n",
    "    *,\n",
    "    pivot: Optional[bool] = True,\n",
    ") -> Tuple[tf.Tensor, tf.Tensor, tf.Tensor]:\n",
    "    n = x.shape[0]\n",
    "    L = tf.eye(n)\n",
    "    U = tf.identity(x)\n",
    "    P = tf.eye(n)\n",
    "\n",
    "    for k in range(n - 1):\n",
    "        if pivot:\n",
    "            # partial pivoting\n",
    "            max_idx = tf.math.argmax(tf.abs(U[k:, k]))+ k\n",
    "            print(f\"Max index: {max_idx}\")\n",
    "            # U[[k, max_idx]] = U[[max_idx, k]]\n",
    "            # swap rows of U\n",
    "            # perform row swapping operation\n",
    "            U = tf.tensor_scatter_nd_update(U, [[k], [max_idx]], tf.gather(U, [max_idx, k]))\n",
    "            # U = tf.tensor_scatter_nd_update(U, [[k], [max_idx]], tf.gather(U, [max_idx, k]), [k, k])\n",
    "            print(\"U after swapping rows:\")\n",
    "            print(U)\n",
    "            if k > 0:\n",
    "                L = tf.tensor_scatter_nd_update(L, [[k], [max_idx]], tf.gather(L, [max_idx, k]))\n",
    "            print(\"L after swapping rows:\")\n",
    "            print(L)\n",
    "            if max_idx != k:\n",
    "                P = tf.tensor_scatter_nd_update(P, [[k], [max_idx]], tf.gather(P, [max_idx, k]))\n",
    "            print(\"P after swapping rows:\")\n",
    "            print(P)\n",
    "        # elimination\n",
    "        div = U[k, k]\n",
    "        # perform element-wise division and assignment operation\n",
    "        new_values = tf.cast(U[k+1:, k] / div, dtype=tf.float32)\n",
    "        indices = tf.stack([tf.range(k+1, L.shape[0]), tf.fill([L.shape[0]-k-1], k)], axis=1)\n",
    "        L = tf.tensor_scatter_nd_update(L, indices, new_values)\n",
    "        print(\"L after elimination:\")\n",
    "        print(L)\n",
    "        U[k+1: , k:] -= tf.matmul(L[k+1: , k], tf.expand_dims(U[k, k:], axis=0))\n",
    "\n",
    "        print(\"U after elimination:\")\n",
    "        print(U)\n",
    "    P = tf.round(P, 4)\n",
    "    L = tf.round(L, 4)\n",
    "    U = tf.round(U, 4)\n",
    "    # ROUND P,L,U to 4 dp if more else fine\n",
    "    return P, L, U\n"
   ]
  },
  {
   "cell_type": "code",
   "execution_count": 21,
   "metadata": {},
   "outputs": [
    {
     "name": "stdout",
     "output_type": "stream",
     "text": [
      "Max index: 2\n",
      "U after swapping rows:\n",
      "tf.Tensor(\n",
      "[[7 8 9]\n",
      " [4 5 6]\n",
      " [1 2 3]], shape=(3, 3), dtype=int32)\n",
      "L after swapping rows:\n",
      "tf.Tensor(\n",
      "[[1. 0. 0.]\n",
      " [0. 1. 0.]\n",
      " [0. 0. 1.]], shape=(3, 3), dtype=float32)\n",
      "P after swapping rows:\n",
      "tf.Tensor(\n",
      "[[0. 0. 1.]\n",
      " [0. 1. 0.]\n",
      " [1. 0. 0.]], shape=(3, 3), dtype=float32)\n",
      "L after elimination:\n",
      "tf.Tensor(\n",
      "[[1.         0.         0.        ]\n",
      " [0.5714286  1.         0.        ]\n",
      " [0.14285715 0.         1.        ]], shape=(3, 3), dtype=float32)\n"
     ]
    },
    {
     "ename": "InvalidArgumentError",
     "evalue": "cannot compute MatMul as input #1(zero-based) was expected to be a float tensor but is a int32 tensor [Op:MatMul]",
     "output_type": "error",
     "traceback": [
      "\u001b[0;31m---------------------------------------------------------------------------\u001b[0m",
      "\u001b[0;31mInvalidArgumentError\u001b[0m                      Traceback (most recent call last)",
      "Cell \u001b[0;32mIn[21], line 3\u001b[0m\n\u001b[1;32m      1\u001b[0m arr \u001b[39m=\u001b[39m [[\u001b[39m1\u001b[39m,\u001b[39m2\u001b[39m,\u001b[39m3\u001b[39m],[\u001b[39m4\u001b[39m,\u001b[39m5\u001b[39m,\u001b[39m6\u001b[39m],[\u001b[39m7\u001b[39m,\u001b[39m8\u001b[39m,\u001b[39m9\u001b[39m]]\n\u001b[1;32m      2\u001b[0m arr_tensor \u001b[39m=\u001b[39m tf\u001b[39m.\u001b[39mconvert_to_tensor(arr)\n\u001b[0;32m----> 3\u001b[0m lu(arr_tensor, pivot\u001b[39m=\u001b[39;49m\u001b[39mTrue\u001b[39;49;00m)\n",
      "Cell \u001b[0;32mIn[20], line 42\u001b[0m, in \u001b[0;36mlu\u001b[0;34m(x, pivot)\u001b[0m\n\u001b[1;32m     40\u001b[0m \u001b[39mprint\u001b[39m(\u001b[39m\"\u001b[39m\u001b[39mL after elimination:\u001b[39m\u001b[39m\"\u001b[39m)\n\u001b[1;32m     41\u001b[0m \u001b[39mprint\u001b[39m(L)\n\u001b[0;32m---> 42\u001b[0m U[k\u001b[39m+\u001b[39m\u001b[39m1\u001b[39m: , k:] \u001b[39m-\u001b[39m\u001b[39m=\u001b[39m tf\u001b[39m.\u001b[39;49mmatmul(L[k\u001b[39m+\u001b[39;49m\u001b[39m1\u001b[39;49m: , k], tf\u001b[39m.\u001b[39;49mexpand_dims(U[k, k:], axis\u001b[39m=\u001b[39;49m\u001b[39m0\u001b[39;49m))\n\u001b[1;32m     44\u001b[0m \u001b[39mprint\u001b[39m(\u001b[39m\"\u001b[39m\u001b[39mU after elimination:\u001b[39m\u001b[39m\"\u001b[39m)\n\u001b[1;32m     45\u001b[0m \u001b[39mprint\u001b[39m(U)\n",
      "File \u001b[0;32m/usr/local/lib/python3.8/dist-packages/tensorflow/python/util/traceback_utils.py:153\u001b[0m, in \u001b[0;36mfilter_traceback.<locals>.error_handler\u001b[0;34m(*args, **kwargs)\u001b[0m\n\u001b[1;32m    151\u001b[0m \u001b[39mexcept\u001b[39;00m \u001b[39mException\u001b[39;00m \u001b[39mas\u001b[39;00m e:\n\u001b[1;32m    152\u001b[0m   filtered_tb \u001b[39m=\u001b[39m _process_traceback_frames(e\u001b[39m.\u001b[39m__traceback__)\n\u001b[0;32m--> 153\u001b[0m   \u001b[39mraise\u001b[39;00m e\u001b[39m.\u001b[39mwith_traceback(filtered_tb) \u001b[39mfrom\u001b[39;00m \u001b[39mNone\u001b[39m\n\u001b[1;32m    154\u001b[0m \u001b[39mfinally\u001b[39;00m:\n\u001b[1;32m    155\u001b[0m   \u001b[39mdel\u001b[39;00m filtered_tb\n",
      "File \u001b[0;32m/usr/local/lib/python3.8/dist-packages/tensorflow/python/framework/ops.py:7164\u001b[0m, in \u001b[0;36mraise_from_not_ok_status\u001b[0;34m(e, name)\u001b[0m\n\u001b[1;32m   7162\u001b[0m \u001b[39mdef\u001b[39;00m \u001b[39mraise_from_not_ok_status\u001b[39m(e, name):\n\u001b[1;32m   7163\u001b[0m   e\u001b[39m.\u001b[39mmessage \u001b[39m+\u001b[39m\u001b[39m=\u001b[39m (\u001b[39m\"\u001b[39m\u001b[39m name: \u001b[39m\u001b[39m\"\u001b[39m \u001b[39m+\u001b[39m name \u001b[39mif\u001b[39;00m name \u001b[39mis\u001b[39;00m \u001b[39mnot\u001b[39;00m \u001b[39mNone\u001b[39;00m \u001b[39melse\u001b[39;00m \u001b[39m\"\u001b[39m\u001b[39m\"\u001b[39m)\n\u001b[0;32m-> 7164\u001b[0m   \u001b[39mraise\u001b[39;00m core\u001b[39m.\u001b[39m_status_to_exception(e) \u001b[39mfrom\u001b[39;00m \u001b[39mNone\u001b[39m\n",
      "\u001b[0;31mInvalidArgumentError\u001b[0m: cannot compute MatMul as input #1(zero-based) was expected to be a float tensor but is a int32 tensor [Op:MatMul]"
     ]
    }
   ],
   "source": [
    "arr = [[1,2,3],[4,5,6],[7,8,9]]\n",
    "arr_tensor = tf.convert_to_tensor(arr)\n",
    "lu(arr_tensor, pivot=True)"
   ]
  },
  {
   "cell_type": "code",
   "execution_count": 22,
   "metadata": {},
   "outputs": [],
   "source": [
    "import tensorflow as tf\n",
    "from typing import Optional, Tuple\n",
    "\n",
    "def lu(\n",
    "    x: tf.Tensor,\n",
    "    /,\n",
    "    *,\n",
    "    pivot: bool = True,\n",
    "    out: Optional[Tuple[tf.Tensor, tf.Tensor, tf.Tensor]] = None,\n",
    ") -> Tuple[tf.Tensor, tf.Tensor, tf.Tensor]:\n",
    "    n = x.shape[0]\n",
    "    L = tf.eye(n, dtype=x.dtype)\n",
    "    U = tf.identity(x)\n",
    "    if pivot:\n",
    "        P = tf.eye(n, dtype=x.dtype)\n",
    "    for k in range(n - 1):\n",
    "        if pivot:\n",
    "            max_idx = tf.argmax(tf.abs(U[k:, k])) + k\n",
    "            U = tf.tensor_scatter_nd_update(\n",
    "                U,\n",
    "                [[k, j] for j in range(k, n)],\n",
    "                tf.gather(U, [max_idx, k], axis=0),\n",
    "            )\n",
    "            L = tf.tensor_scatter_nd_update(\n",
    "                L,\n",
    "                [[k, j] for j in range(k)],\n",
    "                [L[max_idx, j], L[k, j]],\n",
    "            )\n",
    "            if max_idx != k:\n",
    "                P = tf.tensor_scatter_nd_update(\n",
    "                    P,\n",
    "                    [[k, j] for j in range(k)],\n",
    "                    [P[max_idx, j], P[k, j]],\n",
    "                )\n",
    "\n",
    "        # elimination\n",
    "        div = U[k, k]\n",
    "        L = tf.tensor_scatter_nd_update(\n",
    "            L,\n",
    "            [[i, k] for i in range(k + 1, n)],\n",
    "            U[k + 1 :, k] / div,\n",
    "        )\n",
    "        U = tf.tensor_scatter_nd_update(\n",
    "            U,\n",
    "            [[i, j] for i in range(k + 1, n) for j in range(k, n)],\n",
    "            U[i, j] - L[i, k] * U[k, j],\n",
    "        )\n",
    "        U = tf.tensor_scatter_nd_update(\n",
    "            U,\n",
    "            [[i, k] for i in range(k + 1, n)],\n",
    "            tf.zeros([n - k - 1], dtype=x.dtype),\n",
    "        )\n",
    "\n",
    "    P = tf.round(P, decimals=4)\n",
    "    L = tf.round(L, decimals=4)\n",
    "    U = tf.round(U, decimals=4)\n",
    "\n",
    "    if out is not None:\n",
    "        if len(out) != 3:\n",
    "            raise ValueError(\"out must be a tuple of length 3\")\n",
    "        out[0].assign(P)\n",
    "        out[1].assign(L)\n",
    "        out[2].assign(U)\n",
    "\n",
    "    return P, L, U\n"
   ]
  },
  {
   "cell_type": "code",
   "execution_count": 4,
   "metadata": {},
   "outputs": [
    {
     "name": "stderr",
     "output_type": "stream",
     "text": [
      "2023-03-03 06:08:49.861258: W tensorflow/stream_executor/platform/default/dso_loader.cc:64] Could not load dynamic library 'libcuda.so.1'; dlerror: libcuda.so.1: cannot open shared object file: No such file or directory\n",
      "2023-03-03 06:08:49.861293: W tensorflow/stream_executor/cuda/cuda_driver.cc:269] failed call to cuInit: UNKNOWN ERROR (303)\n",
      "2023-03-03 06:08:49.861320: I tensorflow/stream_executor/cuda/cuda_diagnostics.cc:156] kernel driver does not appear to be running on this host (codespaces-88a773): /proc/driver/nvidia/version does not exist\n",
      "2023-03-03 06:08:49.869100: I tensorflow/core/platform/cpu_feature_guard.cc:193] This TensorFlow binary is optimized with oneAPI Deep Neural Network Library (oneDNN) to use the following CPU instructions in performance-critical operations:  AVX2 AVX512F FMA\n",
      "To enable them in other operations, rebuild TensorFlow with the appropriate compiler flags.\n"
     ]
    }
   ],
   "source": [
    "arr = [[1,2,3],[4,5,6],[7,8,9]]\n",
    "arr_tf = tf.convert_to_tensor(arr)"
   ]
  },
  {
   "cell_type": "code",
   "execution_count": 23,
   "metadata": {},
   "outputs": [
    {
     "ename": "InvalidArgumentError",
     "evalue": "Outer dimensions of indices and update must match. Indices shape: [3,2], updates shape:[2,3] [Op:TensorScatterUpdate]",
     "output_type": "error",
     "traceback": [
      "\u001b[0;31m---------------------------------------------------------------------------\u001b[0m",
      "\u001b[0;31mInvalidArgumentError\u001b[0m                      Traceback (most recent call last)",
      "Cell \u001b[0;32mIn[23], line 1\u001b[0m\n\u001b[0;32m----> 1\u001b[0m lu(arr_tf, pivot\u001b[39m=\u001b[39;49m\u001b[39mTrue\u001b[39;49;00m)\n",
      "Cell \u001b[0;32mIn[22], line 19\u001b[0m, in \u001b[0;36mlu\u001b[0;34m(x, pivot, out)\u001b[0m\n\u001b[1;32m     17\u001b[0m \u001b[39mif\u001b[39;00m pivot:\n\u001b[1;32m     18\u001b[0m     max_idx \u001b[39m=\u001b[39m tf\u001b[39m.\u001b[39margmax(tf\u001b[39m.\u001b[39mabs(U[k:, k])) \u001b[39m+\u001b[39m k\n\u001b[0;32m---> 19\u001b[0m     U \u001b[39m=\u001b[39m tf\u001b[39m.\u001b[39;49mtensor_scatter_nd_update(\n\u001b[1;32m     20\u001b[0m         U,\n\u001b[1;32m     21\u001b[0m         [[k, j] \u001b[39mfor\u001b[39;49;00m j \u001b[39min\u001b[39;49;00m \u001b[39mrange\u001b[39;49m(k, n)],\n\u001b[1;32m     22\u001b[0m         tf\u001b[39m.\u001b[39;49mgather(U, [max_idx, k], axis\u001b[39m=\u001b[39;49m\u001b[39m0\u001b[39;49m),\n\u001b[1;32m     23\u001b[0m     )\n\u001b[1;32m     24\u001b[0m     L \u001b[39m=\u001b[39m tf\u001b[39m.\u001b[39mtensor_scatter_nd_update(\n\u001b[1;32m     25\u001b[0m         L,\n\u001b[1;32m     26\u001b[0m         [[k, j] \u001b[39mfor\u001b[39;00m j \u001b[39min\u001b[39;00m \u001b[39mrange\u001b[39m(k)],\n\u001b[1;32m     27\u001b[0m         [L[max_idx, j], L[k, j]],\n\u001b[1;32m     28\u001b[0m     )\n\u001b[1;32m     29\u001b[0m     \u001b[39mif\u001b[39;00m max_idx \u001b[39m!=\u001b[39m k:\n",
      "File \u001b[0;32m/usr/local/lib/python3.8/dist-packages/tensorflow/python/util/traceback_utils.py:153\u001b[0m, in \u001b[0;36mfilter_traceback.<locals>.error_handler\u001b[0;34m(*args, **kwargs)\u001b[0m\n\u001b[1;32m    151\u001b[0m \u001b[39mexcept\u001b[39;00m \u001b[39mException\u001b[39;00m \u001b[39mas\u001b[39;00m e:\n\u001b[1;32m    152\u001b[0m   filtered_tb \u001b[39m=\u001b[39m _process_traceback_frames(e\u001b[39m.\u001b[39m__traceback__)\n\u001b[0;32m--> 153\u001b[0m   \u001b[39mraise\u001b[39;00m e\u001b[39m.\u001b[39mwith_traceback(filtered_tb) \u001b[39mfrom\u001b[39;00m \u001b[39mNone\u001b[39m\n\u001b[1;32m    154\u001b[0m \u001b[39mfinally\u001b[39;00m:\n\u001b[1;32m    155\u001b[0m   \u001b[39mdel\u001b[39;00m filtered_tb\n",
      "File \u001b[0;32m/usr/local/lib/python3.8/dist-packages/tensorflow/python/eager/execute.py:54\u001b[0m, in \u001b[0;36mquick_execute\u001b[0;34m(op_name, num_outputs, inputs, attrs, ctx, name)\u001b[0m\n\u001b[1;32m     52\u001b[0m \u001b[39mtry\u001b[39;00m:\n\u001b[1;32m     53\u001b[0m   ctx\u001b[39m.\u001b[39mensure_initialized()\n\u001b[0;32m---> 54\u001b[0m   tensors \u001b[39m=\u001b[39m pywrap_tfe\u001b[39m.\u001b[39mTFE_Py_Execute(ctx\u001b[39m.\u001b[39m_handle, device_name, op_name,\n\u001b[1;32m     55\u001b[0m                                       inputs, attrs, num_outputs)\n\u001b[1;32m     56\u001b[0m \u001b[39mexcept\u001b[39;00m core\u001b[39m.\u001b[39m_NotOkStatusException \u001b[39mas\u001b[39;00m e:\n\u001b[1;32m     57\u001b[0m   \u001b[39mif\u001b[39;00m name \u001b[39mis\u001b[39;00m \u001b[39mnot\u001b[39;00m \u001b[39mNone\u001b[39;00m:\n",
      "\u001b[0;31mInvalidArgumentError\u001b[0m: Outer dimensions of indices and update must match. Indices shape: [3,2], updates shape:[2,3] [Op:TensorScatterUpdate]"
     ]
    }
   ],
   "source": [
    "lu(arr_tf, pivot=True)"
   ]
  },
  {
   "cell_type": "code",
   "execution_count": null,
   "metadata": {},
   "outputs": [],
   "source": []
  }
 ],
 "metadata": {
  "kernelspec": {
   "display_name": "Python 3",
   "language": "python",
   "name": "python3"
  },
  "language_info": {
   "codemirror_mode": {
    "name": "ipython",
    "version": 3
   },
   "file_extension": ".py",
   "mimetype": "text/x-python",
   "name": "python",
   "nbconvert_exporter": "python",
   "pygments_lexer": "ipython3",
   "version": "3.8.10"
  },
  "orig_nbformat": 4,
  "vscode": {
   "interpreter": {
    "hash": "31f2aee4e71d21fbe5cf8b01ff0e069b9275f58929596ceb00d14d90e3e16cd6"
   }
  }
 },
 "nbformat": 4,
 "nbformat_minor": 2
}
