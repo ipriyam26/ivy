{
 "cells": [
  {
   "cell_type": "code",
   "execution_count": 1,
   "metadata": {},
   "outputs": [],
   "source": [
    "import ivy"
   ]
  },
  {
   "cell_type": "code",
   "execution_count": 2,
   "metadata": {},
   "outputs": [
    {
     "data": {
      "text/plain": [
       "(ivy.array([[1., 0., 0.],\n",
       "        [0., 1., 0.],\n",
       "        [0., 0., 1.]]),\n",
       " ivy.array([[1.        , 0.        , 0.        ],\n",
       "        [0.1429    , 1.        , 0.        ],\n",
       "        [0.57139999, 0.5       , 1.        ]]),\n",
       " ivy.array([[7.        , 8.        , 9.        ],\n",
       "        [0.        , 0.85710001, 1.71430004],\n",
       "        [0.        , 0.        , 0.        ]]))"
      ]
     },
     "execution_count": 2,
     "metadata": {},
     "output_type": "execute_result"
    }
   ],
   "source": [
    "ivy.set_backend('torch')\n",
    "\n",
    "ivy.experimental.lu(ivy.array([[1,2,3],[4,5,6],[7,8,9]],dtype='float32'))"
   ]
  },
  {
   "cell_type": "code",
   "execution_count": 3,
   "metadata": {},
   "outputs": [
    {
     "data": {
      "text/plain": [
       "(ivy.array([[0., 0., 1.],\n",
       "        [1., 0., 0.],\n",
       "        [0., 1., 0.]]),\n",
       " ivy.array([[1.    , 0.    , 0.    ],\n",
       "        [0.1429, 1.    , 0.    ],\n",
       "        [0.5714, 0.5   , 1.    ]]),\n",
       " ivy.array([[7.        , 8.        , 9.        ],\n",
       "        [0.        , 0.85710001, 1.71430004],\n",
       "        [0.        , 0.        , 0.        ]]))"
      ]
     },
     "execution_count": 3,
     "metadata": {},
     "output_type": "execute_result"
    }
   ],
   "source": [
    "ivy.set_backend('numpy')\n",
    "ivy.experimental.lu(ivy.array([[1,2,3],[4,5,6],[7,8,9]],dtype='float32'))"
   ]
  },
  {
   "cell_type": "code",
   "execution_count": 7,
   "metadata": {},
   "outputs": [],
   "source": [
    "# ivy.set_backend('tensorflow')\n",
    "# ivy.experimental.lu(ivy.array([[1,2,3],[4,5,6],[7,8,9]],dtype='float32'))"
   ]
  },
  {
   "cell_type": "code",
   "execution_count": 41,
   "metadata": {},
   "outputs": [],
   "source": [
    "import tensorflow as tf\n",
    "from typing import Optional, Tuple\n",
    "def lu(\n",
    "    x: tf.Tensor,\n",
    "    /,\n",
    "    *,\n",
    "    pivot: Optional[bool] = True,\n",
    ") -> Tuple[tf.Tensor, tf.Tensor, tf.Tensor]:\n",
    "    n = x.shape[0]\n",
    "    L = tf.eye(n)\n",
    "    U = tf.identity(x)\n",
    "    P = tf.eye(n)\n",
    "\n",
    "    for k in range(n - 1):\n",
    "        if pivot:\n",
    "            # partial pivoting\n",
    "            max_idx = tf.math.argmax(tf.abs(U[k:, k]))+ k\n",
    "            print(max_idx)\n",
    "            # U[[k, max_idx]] = U[[max_idx, k]]\n",
    "            # swap rows of U\n",
    "            # perform row swapping operation\n",
    "            U = tf.tensor_scatter_nd_update(U, [[k], [max_idx]], tf.gather(U, [max_idx, k]))\n",
    "            # U = tf.tensor_scatter_nd_update(U, [[k], [max_idx]], tf.gather(U, [max_idx, k]), [k, k])\n",
    "            print(U)\n",
    "            if k > 0:\n",
    "                L[[k, max_idx], :k] = L[[max_idx, k], :k]\n",
    "            print(L)\n",
    "            if max_idx != k:\n",
    "                P = tf.tensor_scatter_nd_update(P, [[k], [max_idx]], tf.gather(P, [max_idx, k]))\n",
    "            print(P)\n",
    "        # elimination\n",
    "        div = U[k, k]\n",
    "        L[k + 1 :, k] = U[k + 1 :, k] / div\n",
    "        U[k + 1 :, k:] -= L[k + 1 :, k, None] * U[k, k:]\n",
    "        U[k + 1 :, k] = 0.0\n",
    "    P = tf.round(P, 4)\n",
    "    L = tf.round(L, 4)\n",
    "    U = tf.round(U, 4)\n",
    "    # ROUND P,L,U to 4 dp if more else fine\n",
    "    return P, L, U\n"
   ]
  },
  {
   "cell_type": "code",
   "execution_count": 42,
   "metadata": {},
   "outputs": [
    {
     "name": "stdout",
     "output_type": "stream",
     "text": [
      "tf.Tensor(2, shape=(), dtype=int64)\n",
      "tf.Tensor(\n",
      "[[7 8 9]\n",
      " [4 5 6]\n",
      " [1 2 3]], shape=(3, 3), dtype=int32)\n",
      "tf.Tensor(\n",
      "[[1. 0. 0.]\n",
      " [0. 1. 0.]\n",
      " [0. 0. 1.]], shape=(3, 3), dtype=float32)\n",
      "tf.Tensor(\n",
      "[[0. 0. 1.]\n",
      " [0. 1. 0.]\n",
      " [1. 0. 0.]], shape=(3, 3), dtype=float32)\n"
     ]
    },
    {
     "ename": "TypeError",
     "evalue": "'tensorflow.python.framework.ops.EagerTensor' object does not support item assignment",
     "output_type": "error",
     "traceback": [
      "\u001b[0;31m---------------------------------------------------------------------------\u001b[0m",
      "\u001b[0;31mTypeError\u001b[0m                                 Traceback (most recent call last)",
      "Cell \u001b[0;32mIn[42], line 3\u001b[0m\n\u001b[1;32m      1\u001b[0m arr \u001b[39m=\u001b[39m [[\u001b[39m1\u001b[39m,\u001b[39m2\u001b[39m,\u001b[39m3\u001b[39m],[\u001b[39m4\u001b[39m,\u001b[39m5\u001b[39m,\u001b[39m6\u001b[39m],[\u001b[39m7\u001b[39m,\u001b[39m8\u001b[39m,\u001b[39m9\u001b[39m]]\n\u001b[1;32m      2\u001b[0m arr_tensor \u001b[39m=\u001b[39m tf\u001b[39m.\u001b[39mconvert_to_tensor(arr)\n\u001b[0;32m----> 3\u001b[0m lu(arr_tensor, pivot\u001b[39m=\u001b[39;49m\u001b[39mTrue\u001b[39;49;00m)\n",
      "Cell \u001b[0;32mIn[41], line 33\u001b[0m, in \u001b[0;36mlu\u001b[0;34m(x, pivot)\u001b[0m\n\u001b[1;32m     31\u001b[0m \u001b[39m# elimination\u001b[39;00m\n\u001b[1;32m     32\u001b[0m div \u001b[39m=\u001b[39m U[k, k]\n\u001b[0;32m---> 33\u001b[0m L[k \u001b[39m+\u001b[39;49m \u001b[39m1\u001b[39;49m :, k] \u001b[39m=\u001b[39m U[k \u001b[39m+\u001b[39m \u001b[39m1\u001b[39m :, k] \u001b[39m/\u001b[39m div\n\u001b[1;32m     34\u001b[0m U[k \u001b[39m+\u001b[39m \u001b[39m1\u001b[39m :, k:] \u001b[39m-\u001b[39m\u001b[39m=\u001b[39m L[k \u001b[39m+\u001b[39m \u001b[39m1\u001b[39m :, k, \u001b[39mNone\u001b[39;00m] \u001b[39m*\u001b[39m U[k, k:]\n\u001b[1;32m     35\u001b[0m U[k \u001b[39m+\u001b[39m \u001b[39m1\u001b[39m :, k] \u001b[39m=\u001b[39m \u001b[39m0.0\u001b[39m\n",
      "\u001b[0;31mTypeError\u001b[0m: 'tensorflow.python.framework.ops.EagerTensor' object does not support item assignment"
     ]
    }
   ],
   "source": [
    "arr = [[1,2,3],[4,5,6],[7,8,9]]\n",
    "arr_tensor = tf.convert_to_tensor(arr)\n",
    "lu(arr_tensor, pivot=True)"
   ]
  },
  {
   "cell_type": "code",
   "execution_count": null,
   "metadata": {},
   "outputs": [],
   "source": []
  }
 ],
 "metadata": {
  "kernelspec": {
   "display_name": "Python 3",
   "language": "python",
   "name": "python3"
  },
  "language_info": {
   "codemirror_mode": {
    "name": "ipython",
    "version": 3
   },
   "file_extension": ".py",
   "mimetype": "text/x-python",
   "name": "python",
   "nbconvert_exporter": "python",
   "pygments_lexer": "ipython3",
   "version": "3.8.10"
  },
  "orig_nbformat": 4,
  "vscode": {
   "interpreter": {
    "hash": "31f2aee4e71d21fbe5cf8b01ff0e069b9275f58929596ceb00d14d90e3e16cd6"
   }
  }
 },
 "nbformat": 4,
 "nbformat_minor": 2
}
